{
 "cells": [
  {
   "cell_type": "code",
   "execution_count": 15,
   "metadata": {
    "collapsed": false
   },
   "outputs": [],
   "source": [
    "import logging\n",
    "logger = logging.getLogger()\n",
    "logger.setLevel(logging.INFO)"
   ]
  },
  {
   "cell_type": "code",
   "execution_count": 2,
   "metadata": {
    "collapsed": false
   },
   "outputs": [],
   "source": [
    "def F(n):\n",
    "    #Calculate up to the nth number in the Fibonacci sequence\n",
    "    #Print text according to value\n",
    "    \n",
    "    if n is None or n <= 0:\n",
    "        return\n",
    "   \n",
    "    n_1 = 1\n",
    "    n_2 = 0\n",
    "    for i in range (0,n):\n",
    "        if i ==0:\n",
    "            answer = 0\n",
    "        elif i ==1:\n",
    "            answer = 1\n",
    "        else:\n",
    "            answer = n_1 + n_2\n",
    "            n_2 = n_1\n",
    "            n_1 = answer\n",
    "        logging.debug('Answer = '+ str(answer))\n",
    "        \n",
    "        div3 = False\n",
    "        div5 = False\n",
    "        #Print custom text\n",
    "        #If answer satisfies multiple conditions, print all of them\n",
    "        if (answer >= 3) and (answer%3 == 0):\n",
    "            print (\"Buzz\")\n",
    "            div3 = True\n",
    "        if (answer >= 5) and (answer%5 == 0):\n",
    "            print (\"Fizz\")\n",
    "            div5 = True\n",
    "        if div3 and div5:\n",
    "            print (\"FizzBuzz\")\n",
    "        if isprime(answer):\n",
    "            print ('BuzzFizz')\n",
    "        else:\n",
    "            print (answer)\n",
    "\n",
    "    \n",
    "    "
   ]
  },
  {
   "cell_type": "code",
   "execution_count": 3,
   "metadata": {
    "collapsed": true
   },
   "outputs": [],
   "source": [
    "def isprime (n):\n",
    "    #Return True if n is a prime number\n",
    "    if n <=1: \n",
    "        return False\n",
    "    if n == 2:\n",
    "        return True\n",
    "    for i in range (2,int(n**0.5) +1):\n",
    "        if n%i == 0:\n",
    "            return False\n",
    "    return True    "
   ]
  },
  {
   "cell_type": "markdown",
   "metadata": {},
   "source": [
    "# Test isprime()"
   ]
  },
  {
   "cell_type": "code",
   "execution_count": 4,
   "metadata": {
    "collapsed": false
   },
   "outputs": [
    {
     "name": "stdout",
     "output_type": "stream",
     "text": [
      "0    False\n",
      "1    False\n",
      "2    True\n",
      "3    True\n",
      "4    False\n",
      "5    True\n",
      "6    False\n",
      "7    True\n",
      "8    False\n",
      "9    False\n",
      "10    False\n",
      "11    True\n",
      "12    False\n",
      "13    True\n",
      "14    False\n",
      "15    False\n"
     ]
    }
   ],
   "source": [
    "#Test isprime()\n",
    "\n",
    "for i in range (0,16):\n",
    "    print (i, '  ', isprime(i))"
   ]
  },
  {
   "cell_type": "markdown",
   "metadata": {},
   "source": [
    "# Test F()"
   ]
  },
  {
   "cell_type": "code",
   "execution_count": 6,
   "metadata": {
    "collapsed": false
   },
   "outputs": [],
   "source": [
    "F(None)"
   ]
  },
  {
   "cell_type": "code",
   "execution_count": 7,
   "metadata": {
    "collapsed": true
   },
   "outputs": [],
   "source": [
    "F(0)"
   ]
  },
  {
   "cell_type": "code",
   "execution_count": 8,
   "metadata": {
    "collapsed": false
   },
   "outputs": [
    {
     "name": "stderr",
     "output_type": "stream",
     "text": [
      "DEBUG:root:Answer = 0\n"
     ]
    },
    {
     "name": "stdout",
     "output_type": "stream",
     "text": [
      "0\n"
     ]
    }
   ],
   "source": [
    "F(1)"
   ]
  },
  {
   "cell_type": "code",
   "execution_count": 9,
   "metadata": {
    "collapsed": false
   },
   "outputs": [
    {
     "name": "stderr",
     "output_type": "stream",
     "text": [
      "DEBUG:root:Answer = 0\n",
      "DEBUG:root:Answer = 1\n"
     ]
    },
    {
     "name": "stdout",
     "output_type": "stream",
     "text": [
      "0\n",
      "1\n"
     ]
    }
   ],
   "source": [
    "F(2)"
   ]
  },
  {
   "cell_type": "code",
   "execution_count": 10,
   "metadata": {
    "collapsed": false
   },
   "outputs": [
    {
     "name": "stderr",
     "output_type": "stream",
     "text": [
      "DEBUG:root:Answer = 0\n",
      "DEBUG:root:Answer = 1\n",
      "DEBUG:root:Answer = 1\n"
     ]
    },
    {
     "name": "stdout",
     "output_type": "stream",
     "text": [
      "0\n",
      "1\n",
      "1\n"
     ]
    }
   ],
   "source": [
    "F(3)"
   ]
  },
  {
   "cell_type": "code",
   "execution_count": 11,
   "metadata": {
    "collapsed": false
   },
   "outputs": [
    {
     "name": "stderr",
     "output_type": "stream",
     "text": [
      "DEBUG:root:Answer = 0\n",
      "DEBUG:root:Answer = 1\n",
      "DEBUG:root:Answer = 1\n",
      "DEBUG:root:Answer = 2\n",
      "DEBUG:root:Answer = 3\n"
     ]
    },
    {
     "name": "stdout",
     "output_type": "stream",
     "text": [
      "0\n",
      "1\n",
      "1\n",
      "BuzzFizz\n",
      "Buzz\n",
      "BuzzFizz\n"
     ]
    }
   ],
   "source": [
    "F(5)"
   ]
  },
  {
   "cell_type": "code",
   "execution_count": 12,
   "metadata": {
    "collapsed": false
   },
   "outputs": [
    {
     "name": "stderr",
     "output_type": "stream",
     "text": [
      "DEBUG:root:Answer = 0\n",
      "DEBUG:root:Answer = 1\n",
      "DEBUG:root:Answer = 1\n",
      "DEBUG:root:Answer = 2\n",
      "DEBUG:root:Answer = 3\n",
      "DEBUG:root:Answer = 5\n",
      "DEBUG:root:Answer = 8\n"
     ]
    },
    {
     "name": "stdout",
     "output_type": "stream",
     "text": [
      "0\n",
      "1\n",
      "1\n",
      "BuzzFizz\n",
      "Buzz\n",
      "BuzzFizz\n",
      "Fizz\n",
      "BuzzFizz\n",
      "8\n"
     ]
    }
   ],
   "source": [
    "\n",
    "F(7)"
   ]
  },
  {
   "cell_type": "code",
   "execution_count": 86,
   "metadata": {
    "collapsed": false
   },
   "outputs": [
    {
     "name": "stderr",
     "output_type": "stream",
     "text": [
      "DEBUG:root:Answer = 0\n",
      "DEBUG:root:Answer = 1\n",
      "DEBUG:root:Answer = 1\n",
      "DEBUG:root:Answer = 2\n",
      "DEBUG:root:Answer = 3\n",
      "DEBUG:root:Answer = 5\n",
      "DEBUG:root:Answer = 8\n",
      "DEBUG:root:Answer = 13\n",
      "DEBUG:root:Answer = 21\n",
      "DEBUG:root:Answer = 34\n",
      "DEBUG:root:Answer = 55\n",
      "DEBUG:root:Answer = 89\n",
      "DEBUG:root:Answer = 144\n",
      "DEBUG:root:Answer = 233\n",
      "DEBUG:root:Answer = 377\n"
     ]
    },
    {
     "name": "stdout",
     "output_type": "stream",
     "text": [
      "0\n",
      "1\n",
      "1\n",
      "BuzzFizz\n",
      "Buzz\n",
      "BuzzFizz\n",
      "Fizz\n",
      "BuzzFizz\n",
      "8\n",
      "BuzzFizz\n",
      "Buzz\n",
      "21\n",
      "34\n",
      "Fizz\n",
      "55\n",
      "BuzzFizz\n",
      "Buzz\n",
      "144\n",
      "BuzzFizz\n",
      "377\n"
     ]
    }
   ],
   "source": [
    "F(15)"
   ]
  },
  {
   "cell_type": "code",
   "execution_count": null,
   "metadata": {
    "collapsed": false
   },
   "outputs": [],
   "source": []
  },
  {
   "cell_type": "code",
   "execution_count": null,
   "metadata": {
    "collapsed": true
   },
   "outputs": [],
   "source": []
  }
 ],
 "metadata": {
  "anaconda-cloud": {},
  "kernelspec": {
   "display_name": "Python [conda root]",
   "language": "python",
   "name": "conda-root-py"
  },
  "language_info": {
   "codemirror_mode": {
    "name": "ipython",
    "version": 3
   },
   "file_extension": ".py",
   "mimetype": "text/x-python",
   "name": "python",
   "nbconvert_exporter": "python",
   "pygments_lexer": "ipython3",
   "version": "3.5.2"
  }
 },
 "nbformat": 4,
 "nbformat_minor": 1
}
